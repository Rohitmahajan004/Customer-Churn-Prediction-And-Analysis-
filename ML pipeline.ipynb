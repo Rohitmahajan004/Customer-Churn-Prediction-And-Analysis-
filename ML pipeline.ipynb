{
 "cells": [
  {
   "cell_type": "code",
   "execution_count": null,
   "id": "71d28c4a-d826-486c-ac13-04ec54607a01",
   "metadata": {},
   "outputs": [],
   "source": [
    "\n",
    "ecommerce_customer_data_large.csv"
   ]
  },
  {
   "cell_type": "code",
   "execution_count": 1,
   "id": "e4731082-679b-439c-86a7-9d514dc66d14",
   "metadata": {},
   "outputs": [],
   "source": [
    "# 1) Imports\n",
    "import pandas as pd\n",
    "import numpy as np\n",
    "import matplotlib.pyplot as plt\n",
    "from datetime import datetime\n",
    "\n",
    "from sklearn.model_selection import train_test_split, GridSearchCV\n",
    "from sklearn.preprocessing import OneHotEncoder, StandardScaler\n",
    "from sklearn.compose import ColumnTransformer\n",
    "from sklearn.pipeline import Pipeline\n",
    "from sklearn.impute import SimpleImputer\n",
    "from sklearn.metrics import (accuracy_score, precision_score, recall_score, f1_score,\n",
    "                             roc_auc_score, confusion_matrix, classification_report)"
   ]
  },
  {
   "cell_type": "code",
   "execution_count": 2,
   "id": "834b927f-d2fd-4ccc-af49-bb5bd4acb993",
   "metadata": {},
   "outputs": [],
   "source": [
    "from sklearn.linear_model import LogisticRegression\n",
    "from sklearn.ensemble import RandomForestClassifier"
   ]
  },
  {
   "cell_type": "code",
   "execution_count": 3,
   "id": "4c1ac264-c7a9-49ae-b35d-ffbb35d9c6bb",
   "metadata": {},
   "outputs": [],
   "source": [
    "# XGBoost import is optional; comment out if not installed\n",
    "try:\n",
    "    from xgboost import XGBClassifier\n",
    "    xgb_available = True\n",
    "except Exception:\n",
    "    xgb_available = False"
   ]
  },
  {
   "cell_type": "code",
   "execution_count": 4,
   "id": "53ff9f62-9ff0-442e-a67b-55a351df54ca",
   "metadata": {},
   "outputs": [],
   "source": [
    "# %%\n",
    "# 2) Load data\n",
    "df = pd.read_csv('ecommerce_customer_data_large.csv', parse_dates=['Purchase Date'])\n"
   ]
  },
  {
   "cell_type": "code",
   "execution_count": 5,
   "id": "640fb07c-0b03-4e98-b4eb-219630d1538e",
   "metadata": {},
   "outputs": [
    {
     "data": {
      "text/html": [
       "<div>\n",
       "<style scoped>\n",
       "    .dataframe tbody tr th:only-of-type {\n",
       "        vertical-align: middle;\n",
       "    }\n",
       "\n",
       "    .dataframe tbody tr th {\n",
       "        vertical-align: top;\n",
       "    }\n",
       "\n",
       "    .dataframe thead th {\n",
       "        text-align: right;\n",
       "    }\n",
       "</style>\n",
       "<table border=\"1\" class=\"dataframe\">\n",
       "  <thead>\n",
       "    <tr style=\"text-align: right;\">\n",
       "      <th></th>\n",
       "      <th>Customer ID</th>\n",
       "      <th>Purchase Date</th>\n",
       "      <th>Product Category</th>\n",
       "      <th>Product Price</th>\n",
       "      <th>Quantity</th>\n",
       "      <th>Total Purchase Amount</th>\n",
       "      <th>Payment Method</th>\n",
       "      <th>Customer Age</th>\n",
       "      <th>Returns</th>\n",
       "      <th>Customer Name</th>\n",
       "      <th>Age</th>\n",
       "      <th>Gender</th>\n",
       "      <th>Churn</th>\n",
       "    </tr>\n",
       "  </thead>\n",
       "  <tbody>\n",
       "    <tr>\n",
       "      <th>0</th>\n",
       "      <td>44605</td>\n",
       "      <td>2023-05-03 21:30:02</td>\n",
       "      <td>Home</td>\n",
       "      <td>177</td>\n",
       "      <td>1</td>\n",
       "      <td>2427</td>\n",
       "      <td>PayPal</td>\n",
       "      <td>31</td>\n",
       "      <td>1.0</td>\n",
       "      <td>John Rivera</td>\n",
       "      <td>31</td>\n",
       "      <td>Female</td>\n",
       "      <td>0</td>\n",
       "    </tr>\n",
       "    <tr>\n",
       "      <th>1</th>\n",
       "      <td>44605</td>\n",
       "      <td>2021-05-16 13:57:44</td>\n",
       "      <td>Electronics</td>\n",
       "      <td>174</td>\n",
       "      <td>3</td>\n",
       "      <td>2448</td>\n",
       "      <td>PayPal</td>\n",
       "      <td>31</td>\n",
       "      <td>1.0</td>\n",
       "      <td>John Rivera</td>\n",
       "      <td>31</td>\n",
       "      <td>Female</td>\n",
       "      <td>0</td>\n",
       "    </tr>\n",
       "    <tr>\n",
       "      <th>2</th>\n",
       "      <td>44605</td>\n",
       "      <td>2020-07-13 06:16:57</td>\n",
       "      <td>Books</td>\n",
       "      <td>413</td>\n",
       "      <td>1</td>\n",
       "      <td>2345</td>\n",
       "      <td>Credit Card</td>\n",
       "      <td>31</td>\n",
       "      <td>1.0</td>\n",
       "      <td>John Rivera</td>\n",
       "      <td>31</td>\n",
       "      <td>Female</td>\n",
       "      <td>0</td>\n",
       "    </tr>\n",
       "    <tr>\n",
       "      <th>3</th>\n",
       "      <td>44605</td>\n",
       "      <td>2023-01-17 13:14:36</td>\n",
       "      <td>Electronics</td>\n",
       "      <td>396</td>\n",
       "      <td>3</td>\n",
       "      <td>937</td>\n",
       "      <td>Cash</td>\n",
       "      <td>31</td>\n",
       "      <td>0.0</td>\n",
       "      <td>John Rivera</td>\n",
       "      <td>31</td>\n",
       "      <td>Female</td>\n",
       "      <td>0</td>\n",
       "    </tr>\n",
       "    <tr>\n",
       "      <th>4</th>\n",
       "      <td>44605</td>\n",
       "      <td>2021-05-01 11:29:27</td>\n",
       "      <td>Books</td>\n",
       "      <td>259</td>\n",
       "      <td>4</td>\n",
       "      <td>2598</td>\n",
       "      <td>PayPal</td>\n",
       "      <td>31</td>\n",
       "      <td>1.0</td>\n",
       "      <td>John Rivera</td>\n",
       "      <td>31</td>\n",
       "      <td>Female</td>\n",
       "      <td>0</td>\n",
       "    </tr>\n",
       "    <tr>\n",
       "      <th>...</th>\n",
       "      <td>...</td>\n",
       "      <td>...</td>\n",
       "      <td>...</td>\n",
       "      <td>...</td>\n",
       "      <td>...</td>\n",
       "      <td>...</td>\n",
       "      <td>...</td>\n",
       "      <td>...</td>\n",
       "      <td>...</td>\n",
       "      <td>...</td>\n",
       "      <td>...</td>\n",
       "      <td>...</td>\n",
       "      <td>...</td>\n",
       "    </tr>\n",
       "    <tr>\n",
       "      <th>249995</th>\n",
       "      <td>33807</td>\n",
       "      <td>2023-01-24 12:32:18</td>\n",
       "      <td>Home</td>\n",
       "      <td>436</td>\n",
       "      <td>1</td>\n",
       "      <td>3664</td>\n",
       "      <td>Cash</td>\n",
       "      <td>63</td>\n",
       "      <td>0.0</td>\n",
       "      <td>Gabriel Williams</td>\n",
       "      <td>63</td>\n",
       "      <td>Male</td>\n",
       "      <td>0</td>\n",
       "    </tr>\n",
       "    <tr>\n",
       "      <th>249996</th>\n",
       "      <td>20455</td>\n",
       "      <td>2021-06-04 05:45:25</td>\n",
       "      <td>Electronics</td>\n",
       "      <td>233</td>\n",
       "      <td>1</td>\n",
       "      <td>4374</td>\n",
       "      <td>Credit Card</td>\n",
       "      <td>66</td>\n",
       "      <td>1.0</td>\n",
       "      <td>Barry Foster</td>\n",
       "      <td>66</td>\n",
       "      <td>Female</td>\n",
       "      <td>0</td>\n",
       "    </tr>\n",
       "    <tr>\n",
       "      <th>249997</th>\n",
       "      <td>28055</td>\n",
       "      <td>2022-11-10 17:11:57</td>\n",
       "      <td>Electronics</td>\n",
       "      <td>441</td>\n",
       "      <td>5</td>\n",
       "      <td>5296</td>\n",
       "      <td>Cash</td>\n",
       "      <td>63</td>\n",
       "      <td>NaN</td>\n",
       "      <td>Lisa Johnson</td>\n",
       "      <td>63</td>\n",
       "      <td>Female</td>\n",
       "      <td>0</td>\n",
       "    </tr>\n",
       "    <tr>\n",
       "      <th>249998</th>\n",
       "      <td>15023</td>\n",
       "      <td>2021-06-27 14:42:12</td>\n",
       "      <td>Electronics</td>\n",
       "      <td>44</td>\n",
       "      <td>2</td>\n",
       "      <td>2517</td>\n",
       "      <td>Cash</td>\n",
       "      <td>64</td>\n",
       "      <td>1.0</td>\n",
       "      <td>Melissa Fernandez</td>\n",
       "      <td>64</td>\n",
       "      <td>Male</td>\n",
       "      <td>0</td>\n",
       "    </tr>\n",
       "    <tr>\n",
       "      <th>249999</th>\n",
       "      <td>4148</td>\n",
       "      <td>2020-09-07 05:12:19</td>\n",
       "      <td>Home</td>\n",
       "      <td>307</td>\n",
       "      <td>5</td>\n",
       "      <td>3634</td>\n",
       "      <td>Cash</td>\n",
       "      <td>32</td>\n",
       "      <td>0.0</td>\n",
       "      <td>Angela Norton</td>\n",
       "      <td>32</td>\n",
       "      <td>Male</td>\n",
       "      <td>0</td>\n",
       "    </tr>\n",
       "  </tbody>\n",
       "</table>\n",
       "<p>250000 rows × 13 columns</p>\n",
       "</div>"
      ],
      "text/plain": [
       "        Customer ID       Purchase Date Product Category  Product Price  \\\n",
       "0             44605 2023-05-03 21:30:02             Home            177   \n",
       "1             44605 2021-05-16 13:57:44      Electronics            174   \n",
       "2             44605 2020-07-13 06:16:57            Books            413   \n",
       "3             44605 2023-01-17 13:14:36      Electronics            396   \n",
       "4             44605 2021-05-01 11:29:27            Books            259   \n",
       "...             ...                 ...              ...            ...   \n",
       "249995        33807 2023-01-24 12:32:18             Home            436   \n",
       "249996        20455 2021-06-04 05:45:25      Electronics            233   \n",
       "249997        28055 2022-11-10 17:11:57      Electronics            441   \n",
       "249998        15023 2021-06-27 14:42:12      Electronics             44   \n",
       "249999         4148 2020-09-07 05:12:19             Home            307   \n",
       "\n",
       "        Quantity  Total Purchase Amount Payment Method  Customer Age  Returns  \\\n",
       "0              1                   2427         PayPal            31      1.0   \n",
       "1              3                   2448         PayPal            31      1.0   \n",
       "2              1                   2345    Credit Card            31      1.0   \n",
       "3              3                    937           Cash            31      0.0   \n",
       "4              4                   2598         PayPal            31      1.0   \n",
       "...          ...                    ...            ...           ...      ...   \n",
       "249995         1                   3664           Cash            63      0.0   \n",
       "249996         1                   4374    Credit Card            66      1.0   \n",
       "249997         5                   5296           Cash            63      NaN   \n",
       "249998         2                   2517           Cash            64      1.0   \n",
       "249999         5                   3634           Cash            32      0.0   \n",
       "\n",
       "            Customer Name  Age  Gender  Churn  \n",
       "0             John Rivera   31  Female      0  \n",
       "1             John Rivera   31  Female      0  \n",
       "2             John Rivera   31  Female      0  \n",
       "3             John Rivera   31  Female      0  \n",
       "4             John Rivera   31  Female      0  \n",
       "...                   ...  ...     ...    ...  \n",
       "249995   Gabriel Williams   63    Male      0  \n",
       "249996       Barry Foster   66  Female      0  \n",
       "249997       Lisa Johnson   63  Female      0  \n",
       "249998  Melissa Fernandez   64    Male      0  \n",
       "249999      Angela Norton   32    Male      0  \n",
       "\n",
       "[250000 rows x 13 columns]"
      ]
     },
     "execution_count": 5,
     "metadata": {},
     "output_type": "execute_result"
    }
   ],
   "source": [
    "df"
   ]
  },
  {
   "cell_type": "code",
   "execution_count": 6,
   "id": "561b6376-35db-4778-a02f-3839e7078314",
   "metadata": {},
   "outputs": [
    {
     "name": "stdout",
     "output_type": "stream",
     "text": [
      "Rows: 250000\n",
      "['Customer ID', 'Purchase Date', 'Product Category', 'Product Price', 'Quantity', 'Total Purchase Amount', 'Payment Method', 'Customer Age', 'Returns', 'Customer Name', 'Age', 'Gender', 'Churn']\n"
     ]
    },
    {
     "data": {
      "text/html": [
       "<div>\n",
       "<style scoped>\n",
       "    .dataframe tbody tr th:only-of-type {\n",
       "        vertical-align: middle;\n",
       "    }\n",
       "\n",
       "    .dataframe tbody tr th {\n",
       "        vertical-align: top;\n",
       "    }\n",
       "\n",
       "    .dataframe thead th {\n",
       "        text-align: right;\n",
       "    }\n",
       "</style>\n",
       "<table border=\"1\" class=\"dataframe\">\n",
       "  <thead>\n",
       "    <tr style=\"text-align: right;\">\n",
       "      <th></th>\n",
       "      <th>Customer ID</th>\n",
       "      <th>Purchase Date</th>\n",
       "      <th>Product Category</th>\n",
       "      <th>Product Price</th>\n",
       "      <th>Quantity</th>\n",
       "      <th>Total Purchase Amount</th>\n",
       "      <th>Payment Method</th>\n",
       "      <th>Customer Age</th>\n",
       "      <th>Returns</th>\n",
       "      <th>Customer Name</th>\n",
       "      <th>Age</th>\n",
       "      <th>Gender</th>\n",
       "      <th>Churn</th>\n",
       "    </tr>\n",
       "  </thead>\n",
       "  <tbody>\n",
       "    <tr>\n",
       "      <th>0</th>\n",
       "      <td>44605</td>\n",
       "      <td>2023-05-03 21:30:02</td>\n",
       "      <td>Home</td>\n",
       "      <td>177</td>\n",
       "      <td>1</td>\n",
       "      <td>2427</td>\n",
       "      <td>PayPal</td>\n",
       "      <td>31</td>\n",
       "      <td>1.0</td>\n",
       "      <td>John Rivera</td>\n",
       "      <td>31</td>\n",
       "      <td>Female</td>\n",
       "      <td>0</td>\n",
       "    </tr>\n",
       "    <tr>\n",
       "      <th>1</th>\n",
       "      <td>44605</td>\n",
       "      <td>2021-05-16 13:57:44</td>\n",
       "      <td>Electronics</td>\n",
       "      <td>174</td>\n",
       "      <td>3</td>\n",
       "      <td>2448</td>\n",
       "      <td>PayPal</td>\n",
       "      <td>31</td>\n",
       "      <td>1.0</td>\n",
       "      <td>John Rivera</td>\n",
       "      <td>31</td>\n",
       "      <td>Female</td>\n",
       "      <td>0</td>\n",
       "    </tr>\n",
       "    <tr>\n",
       "      <th>2</th>\n",
       "      <td>44605</td>\n",
       "      <td>2020-07-13 06:16:57</td>\n",
       "      <td>Books</td>\n",
       "      <td>413</td>\n",
       "      <td>1</td>\n",
       "      <td>2345</td>\n",
       "      <td>Credit Card</td>\n",
       "      <td>31</td>\n",
       "      <td>1.0</td>\n",
       "      <td>John Rivera</td>\n",
       "      <td>31</td>\n",
       "      <td>Female</td>\n",
       "      <td>0</td>\n",
       "    </tr>\n",
       "    <tr>\n",
       "      <th>3</th>\n",
       "      <td>44605</td>\n",
       "      <td>2023-01-17 13:14:36</td>\n",
       "      <td>Electronics</td>\n",
       "      <td>396</td>\n",
       "      <td>3</td>\n",
       "      <td>937</td>\n",
       "      <td>Cash</td>\n",
       "      <td>31</td>\n",
       "      <td>0.0</td>\n",
       "      <td>John Rivera</td>\n",
       "      <td>31</td>\n",
       "      <td>Female</td>\n",
       "      <td>0</td>\n",
       "    </tr>\n",
       "    <tr>\n",
       "      <th>4</th>\n",
       "      <td>44605</td>\n",
       "      <td>2021-05-01 11:29:27</td>\n",
       "      <td>Books</td>\n",
       "      <td>259</td>\n",
       "      <td>4</td>\n",
       "      <td>2598</td>\n",
       "      <td>PayPal</td>\n",
       "      <td>31</td>\n",
       "      <td>1.0</td>\n",
       "      <td>John Rivera</td>\n",
       "      <td>31</td>\n",
       "      <td>Female</td>\n",
       "      <td>0</td>\n",
       "    </tr>\n",
       "  </tbody>\n",
       "</table>\n",
       "</div>"
      ],
      "text/plain": [
       "   Customer ID       Purchase Date Product Category  Product Price  Quantity  \\\n",
       "0        44605 2023-05-03 21:30:02             Home            177         1   \n",
       "1        44605 2021-05-16 13:57:44      Electronics            174         3   \n",
       "2        44605 2020-07-13 06:16:57            Books            413         1   \n",
       "3        44605 2023-01-17 13:14:36      Electronics            396         3   \n",
       "4        44605 2021-05-01 11:29:27            Books            259         4   \n",
       "\n",
       "   Total Purchase Amount Payment Method  Customer Age  Returns Customer Name  \\\n",
       "0                   2427         PayPal            31      1.0   John Rivera   \n",
       "1                   2448         PayPal            31      1.0   John Rivera   \n",
       "2                   2345    Credit Card            31      1.0   John Rivera   \n",
       "3                    937           Cash            31      0.0   John Rivera   \n",
       "4                   2598         PayPal            31      1.0   John Rivera   \n",
       "\n",
       "   Age  Gender  Churn  \n",
       "0   31  Female      0  \n",
       "1   31  Female      0  \n",
       "2   31  Female      0  \n",
       "3   31  Female      0  \n",
       "4   31  Female      0  "
      ]
     },
     "execution_count": 6,
     "metadata": {},
     "output_type": "execute_result"
    }
   ],
   "source": [
    "# Quick top-level overview\n",
    "print('Rows:', len(df))\n",
    "print(df.columns.tolist())\n",
    "df.head()"
   ]
  },
  {
   "cell_type": "code",
   "execution_count": 7,
   "id": "2c5ddfd8-3a90-4a1e-912c-468510a8e085",
   "metadata": {},
   "outputs": [],
   "source": [
    "# 3) Basic cleaning & sanity checks\n",
    "# Standardize column names (no leading/trailing spaces)\n",
    "df.columns = [c.strip() for c in df.columns]"
   ]
  },
  {
   "cell_type": "code",
   "execution_count": 8,
   "id": "8b6e6130-798a-46ed-9240-49b3f1bb996a",
   "metadata": {},
   "outputs": [],
   "source": [
    "# Ensure numeric columns are numeric\n",
    "for col in ['Product Price', 'Quantity', 'Total Purchase Amount', 'Customer Age', 'Returns', 'Churn']:\n",
    "    if col in df.columns:\n",
    "        df[col] = pd.to_numeric(df[col], errors='coerce')"
   ]
  },
  {
   "cell_type": "code",
   "execution_count": 9,
   "id": "6ab39cee-0cc5-4e73-ab03-20b31bd50722",
   "metadata": {},
   "outputs": [],
   "source": [
    "# Drop rows with missing customer id\n",
    "df = df.dropna(subset=['Customer ID'])"
   ]
  },
  {
   "cell_type": "code",
   "execution_count": 10,
   "id": "bd674f17-bb74-4361-b05a-5a124d7a4965",
   "metadata": {},
   "outputs": [
    {
     "name": "stdout",
     "output_type": "stream",
     "text": [
      "\n",
      "Missing values by column:\n",
      "Customer ID                  0\n",
      "Purchase Date                0\n",
      "Product Category             0\n",
      "Product Price                0\n",
      "Quantity                     0\n",
      "Total Purchase Amount        0\n",
      "Payment Method               0\n",
      "Customer Age                 0\n",
      "Returns                  47382\n",
      "Customer Name                0\n",
      "Age                          0\n",
      "Gender                       0\n",
      "Churn                        0\n",
      "dtype: int64\n"
     ]
    }
   ],
   "source": [
    "# Show null counts\n",
    "print('\\nMissing values by column:')\n",
    "print(df.isna().sum())"
   ]
  },
  {
   "cell_type": "code",
   "execution_count": 11,
   "id": "928dbb1f-1880-4276-a6ab-894df89796e2",
   "metadata": {},
   "outputs": [],
   "source": [
    "# 4) Convert transactional data to customer-level features\n",
    "# We'll aggregate purchase-level transactions to per-customer features for churn prediction\n",
    "\n",
    "agg_funcs = {\n",
    "    'Total Purchase Amount': ['sum','mean','max'],\n",
    "    'Purchase Date': ['min','max','count'],\n",
    "    'Quantity': 'sum',\n",
    "    'Returns': 'sum'\n",
    "}"
   ]
  },
  {
   "cell_type": "code",
   "execution_count": 12,
   "id": "8aca7654-48cd-43bc-9ae0-dd60f6814b67",
   "metadata": {},
   "outputs": [],
   "source": [
    "\n",
    "cust = df.groupby('Customer ID').agg(agg_funcs)\n",
    "# flatten columns\n",
    "cust.columns = ['_'.join(col).strip() for col in cust.columns.values]"
   ]
  },
  {
   "cell_type": "code",
   "execution_count": 13,
   "id": "a65e20af-d732-405c-a510-b6ccc72e4e02",
   "metadata": {},
   "outputs": [],
   "source": [
    "# Rename intuitive columns\n",
    "cust = cust.rename(columns={\n",
    "    'Total Purchase Amount_sum': 'total_spent',\n",
    "    'Total Purchase Amount_mean': 'avg_order_value',\n",
    "    'Total Purchase Amount_max': 'max_order_value',\n",
    "    'Purchase Date_min': 'first_purchase_date',\n",
    "    'Purchase Date_max': 'last_purchase_date',\n",
    "    'Purchase Date_count': 'num_orders',\n",
    "    'Quantity_sum': 'total_quantity',\n",
    "    'Returns_sum': 'total_returns'\n",
    "})"
   ]
  },
  {
   "cell_type": "code",
   "execution_count": 14,
   "id": "c581fb97-a9af-473b-9c75-cd38b443e993",
   "metadata": {},
   "outputs": [],
   "source": [
    "# Add recency (days since last purchase relative to dataset max date)\n",
    "dataset_max_date = df['Purchase Date'].max()\n",
    "cust['days_since_last_purchase'] = (dataset_max_date - pd.to_datetime(cust['last_purchase_date'])).dt.days\n"
   ]
  },
  {
   "cell_type": "code",
   "execution_count": 16,
   "id": "d79c0fa7-816d-4783-a455-3f9fa9f5f345",
   "metadata": {},
   "outputs": [],
   "source": [
    "# return rate\n",
    "cust['return_rate'] = cust['total_returns'] / cust['num_orders']"
   ]
  },
  {
   "cell_type": "code",
   "execution_count": 17,
   "id": "d6a6cbcd-09a0-4ae8-9613-1d0e0ec28303",
   "metadata": {},
   "outputs": [],
   "source": [
    "# number of distinct product categories per customer\n",
    "category_counts = df.groupby('Customer ID')['Product Category'].nunique().rename('num_categories')\n",
    "cust = cust.merge(category_counts, left_index=True, right_index=True, how='left')\n"
   ]
  },
  {
   "cell_type": "code",
   "execution_count": 18,
   "id": "d58283af-1d41-42d8-8d6a-00f5d3e5dbe6",
   "metadata": {},
   "outputs": [],
   "source": [
    "# Payment method mode per customer (we'll take most common payment method)\n",
    "payment_mode = df.groupby('Customer ID')['Payment Method'].agg(lambda x: x.mode().iloc[0] if len(x.mode())>0 else np.nan).rename('payment_method')\n",
    "cust = cust.merge(payment_mode, left_index=True, right_index=True, how='left')\n"
   ]
  },
  {
   "cell_type": "code",
   "execution_count": 19,
   "id": "60e4bbf1-9efc-4408-994e-9a32ae6a67f5",
   "metadata": {},
   "outputs": [],
   "source": [
    "# Gender and Age from first (or most frequent) row\n",
    "age = df.groupby('Customer ID')['Customer Age'].agg(lambda x: x.iloc[0]).rename('age')\n",
    "gender = df.groupby('Customer ID')['Gender'].agg(lambda x: x.mode().iloc[0] if len(x.mode())>0 else np.nan).rename('gender')\n",
    "name = df.groupby('Customer ID')['Customer Name'].agg(lambda x: x.iloc[0]).rename('customer_name')\n"
   ]
  },
  {
   "cell_type": "code",
   "execution_count": 20,
   "id": "685c3a0e-0abd-4890-a11b-c43b54712d78",
   "metadata": {},
   "outputs": [],
   "source": [
    "cust = cust.merge(age, left_index=True, right_index=True, how='left')\n",
    "cust = cust.merge(gender, left_index=True, right_index=True, how='left')\n",
    "cust = cust.merge(name, left_index=True, right_index=True, how='left')\n"
   ]
  },
  {
   "cell_type": "code",
   "execution_count": 21,
   "id": "e00e1528-4d00-4a4e-b74d-a848a6cab822",
   "metadata": {},
   "outputs": [],
   "source": [
    "\n",
    "# Churn label (assumes churn is present at transaction-level; we take max per customer)\n",
    "if 'Churn' in df.columns:\n",
    "    churn_label = df.groupby('Customer ID')['Churn'].max().rename('churn')\n",
    "    cust = cust.merge(churn_label, left_index=True, right_index=True, how='left')\n",
    "else:\n",
    "    raise ValueError('Churn column not found in input CSV')\n"
   ]
  },
  {
   "cell_type": "code",
   "execution_count": 22,
   "id": "6484f731-b4ac-4693-8771-a9ec9da1d3e6",
   "metadata": {},
   "outputs": [],
   "source": [
    "# Some derived features\n",
    "cust['orders_per_month'] = cust['num_orders'] / ((cust['last_purchase_date'] - cust['first_purchase_date']).dt.days/30.0 + 0.001)\n",
    "cust['avg_items_per_order'] = cust['total_quantity'] / cust['num_orders']\n"
   ]
  },
  {
   "cell_type": "code",
   "execution_count": 23,
   "id": "414c5186-2eda-4240-82e0-d6423f37df4d",
   "metadata": {},
   "outputs": [],
   "source": [
    "\n",
    "# Fill inf/nan for derived\n",
    "cust.replace([np.inf, -np.inf], np.nan, inplace=True)\n",
    "cust['return_rate'] = cust['return_rate'].fillna(0)\n"
   ]
  },
  {
   "cell_type": "code",
   "execution_count": 24,
   "id": "466083e4-ff4e-4a42-96f6-2fd8f51ff8fb",
   "metadata": {},
   "outputs": [
    {
     "data": {
      "text/html": [
       "<div>\n",
       "<style scoped>\n",
       "    .dataframe tbody tr th:only-of-type {\n",
       "        vertical-align: middle;\n",
       "    }\n",
       "\n",
       "    .dataframe tbody tr th {\n",
       "        vertical-align: top;\n",
       "    }\n",
       "\n",
       "    .dataframe thead th {\n",
       "        text-align: right;\n",
       "    }\n",
       "</style>\n",
       "<table border=\"1\" class=\"dataframe\">\n",
       "  <thead>\n",
       "    <tr style=\"text-align: right;\">\n",
       "      <th></th>\n",
       "      <th>Customer ID</th>\n",
       "      <th>total_spent</th>\n",
       "      <th>avg_order_value</th>\n",
       "      <th>max_order_value</th>\n",
       "      <th>first_purchase_date</th>\n",
       "      <th>last_purchase_date</th>\n",
       "      <th>num_orders</th>\n",
       "      <th>total_quantity</th>\n",
       "      <th>total_returns</th>\n",
       "      <th>days_since_last_purchase</th>\n",
       "      <th>return_rate</th>\n",
       "      <th>num_categories</th>\n",
       "      <th>payment_method</th>\n",
       "      <th>age</th>\n",
       "      <th>gender</th>\n",
       "      <th>customer_name</th>\n",
       "      <th>churn</th>\n",
       "      <th>orders_per_month</th>\n",
       "      <th>avg_items_per_order</th>\n",
       "    </tr>\n",
       "  </thead>\n",
       "  <tbody>\n",
       "    <tr>\n",
       "      <th>0</th>\n",
       "      <td>1</td>\n",
       "      <td>6290</td>\n",
       "      <td>2096.666667</td>\n",
       "      <td>5148</td>\n",
       "      <td>2020-03-04 10:26:02</td>\n",
       "      <td>2022-11-29 06:48:25</td>\n",
       "      <td>3</td>\n",
       "      <td>15</td>\n",
       "      <td>0.0</td>\n",
       "      <td>288</td>\n",
       "      <td>0.000000</td>\n",
       "      <td>3</td>\n",
       "      <td>Credit Card</td>\n",
       "      <td>67</td>\n",
       "      <td>Female</td>\n",
       "      <td>Dominic Cline</td>\n",
       "      <td>0</td>\n",
       "      <td>0.090087</td>\n",
       "      <td>5.00</td>\n",
       "    </tr>\n",
       "    <tr>\n",
       "      <th>1</th>\n",
       "      <td>2</td>\n",
       "      <td>16481</td>\n",
       "      <td>2746.833333</td>\n",
       "      <td>4777</td>\n",
       "      <td>2020-07-31 16:27:41</td>\n",
       "      <td>2023-07-03 17:26:19</td>\n",
       "      <td>6</td>\n",
       "      <td>18</td>\n",
       "      <td>4.0</td>\n",
       "      <td>72</td>\n",
       "      <td>0.666667</td>\n",
       "      <td>4</td>\n",
       "      <td>PayPal</td>\n",
       "      <td>42</td>\n",
       "      <td>Female</td>\n",
       "      <td>Crystal Day</td>\n",
       "      <td>0</td>\n",
       "      <td>0.168693</td>\n",
       "      <td>3.00</td>\n",
       "    </tr>\n",
       "    <tr>\n",
       "      <th>2</th>\n",
       "      <td>3</td>\n",
       "      <td>9423</td>\n",
       "      <td>2355.750000</td>\n",
       "      <td>4687</td>\n",
       "      <td>2020-01-19 00:03:00</td>\n",
       "      <td>2023-02-03 03:58:07</td>\n",
       "      <td>4</td>\n",
       "      <td>15</td>\n",
       "      <td>0.0</td>\n",
       "      <td>222</td>\n",
       "      <td>0.000000</td>\n",
       "      <td>3</td>\n",
       "      <td>Credit Card</td>\n",
       "      <td>31</td>\n",
       "      <td>Male</td>\n",
       "      <td>Joseph Perez</td>\n",
       "      <td>0</td>\n",
       "      <td>0.108008</td>\n",
       "      <td>3.75</td>\n",
       "    </tr>\n",
       "    <tr>\n",
       "      <th>3</th>\n",
       "      <td>4</td>\n",
       "      <td>7826</td>\n",
       "      <td>1565.200000</td>\n",
       "      <td>2959</td>\n",
       "      <td>2020-10-12 22:03:10</td>\n",
       "      <td>2022-06-29 03:41:09</td>\n",
       "      <td>5</td>\n",
       "      <td>19</td>\n",
       "      <td>3.0</td>\n",
       "      <td>441</td>\n",
       "      <td>0.600000</td>\n",
       "      <td>4</td>\n",
       "      <td>Cash</td>\n",
       "      <td>37</td>\n",
       "      <td>Male</td>\n",
       "      <td>Wyatt Love</td>\n",
       "      <td>0</td>\n",
       "      <td>0.240373</td>\n",
       "      <td>3.80</td>\n",
       "    </tr>\n",
       "    <tr>\n",
       "      <th>4</th>\n",
       "      <td>5</td>\n",
       "      <td>9769</td>\n",
       "      <td>1953.800000</td>\n",
       "      <td>4227</td>\n",
       "      <td>2020-04-08 21:57:19</td>\n",
       "      <td>2022-07-16 04:08:09</td>\n",
       "      <td>5</td>\n",
       "      <td>13</td>\n",
       "      <td>3.0</td>\n",
       "      <td>424</td>\n",
       "      <td>0.600000</td>\n",
       "      <td>2</td>\n",
       "      <td>Credit Card</td>\n",
       "      <td>24</td>\n",
       "      <td>Female</td>\n",
       "      <td>Shannon Hoffman</td>\n",
       "      <td>0</td>\n",
       "      <td>0.181153</td>\n",
       "      <td>2.60</td>\n",
       "    </tr>\n",
       "  </tbody>\n",
       "</table>\n",
       "</div>"
      ],
      "text/plain": [
       "   Customer ID  total_spent  avg_order_value  max_order_value  \\\n",
       "0            1         6290      2096.666667             5148   \n",
       "1            2        16481      2746.833333             4777   \n",
       "2            3         9423      2355.750000             4687   \n",
       "3            4         7826      1565.200000             2959   \n",
       "4            5         9769      1953.800000             4227   \n",
       "\n",
       "  first_purchase_date  last_purchase_date  num_orders  total_quantity  \\\n",
       "0 2020-03-04 10:26:02 2022-11-29 06:48:25           3              15   \n",
       "1 2020-07-31 16:27:41 2023-07-03 17:26:19           6              18   \n",
       "2 2020-01-19 00:03:00 2023-02-03 03:58:07           4              15   \n",
       "3 2020-10-12 22:03:10 2022-06-29 03:41:09           5              19   \n",
       "4 2020-04-08 21:57:19 2022-07-16 04:08:09           5              13   \n",
       "\n",
       "   total_returns  days_since_last_purchase  return_rate  num_categories  \\\n",
       "0            0.0                       288     0.000000               3   \n",
       "1            4.0                        72     0.666667               4   \n",
       "2            0.0                       222     0.000000               3   \n",
       "3            3.0                       441     0.600000               4   \n",
       "4            3.0                       424     0.600000               2   \n",
       "\n",
       "  payment_method  age  gender    customer_name  churn  orders_per_month  \\\n",
       "0    Credit Card   67  Female    Dominic Cline      0          0.090087   \n",
       "1         PayPal   42  Female      Crystal Day      0          0.168693   \n",
       "2    Credit Card   31    Male     Joseph Perez      0          0.108008   \n",
       "3           Cash   37    Male       Wyatt Love      0          0.240373   \n",
       "4    Credit Card   24  Female  Shannon Hoffman      0          0.181153   \n",
       "\n",
       "   avg_items_per_order  \n",
       "0                 5.00  \n",
       "1                 3.00  \n",
       "2                 3.75  \n",
       "3                 3.80  \n",
       "4                 2.60  "
      ]
     },
     "execution_count": 24,
     "metadata": {},
     "output_type": "execute_result"
    }
   ],
   "source": [
    "# Preview\n",
    "cust.reset_index().head()"
   ]
  },
  {
   "cell_type": "code",
   "execution_count": 25,
   "id": "cc51062b-d111-46fc-b675-9ff6fdb4dbc2",
   "metadata": {},
   "outputs": [],
   "source": [
    "# 5) Exploratory Visualizations (matplotlib only)\n",
    "import matplotlib.pyplot as plt"
   ]
  },
  {
   "cell_type": "code",
   "execution_count": 26,
   "id": "40ec4847-f889-4768-99ee-c7352dff22e9",
   "metadata": {},
   "outputs": [
    {
     "data": {
      "image/png": "[encoded data removed]",
      "text/plain": [
       "<Figure size 600x400 with 1 Axes>"
      ]
     },
     "metadata": {},
     "output_type": "display_data"
    }
   ],
   "source": [
    "plt.figure(figsize=(6,4))\n",
    "churn_counts = cust['churn'].value_counts().sort_index()\n",
    "plt.bar(['Retained(0)','Churned(1)'], churn_counts.values)\n",
    "plt.title('Churn distribution')\n",
    "plt.ylabel('Number of customers')\n",
    "plt.show()"
   ]
  },
  {
   "cell_type": "code",
   "execution_count": 27,
   "id": "2f89327f-af12-485a-9751-336bc61cccdd",
   "metadata": {},
   "outputs": [
    {
     "data": {
      "image/png": "[encoded data removed]",
      "text/plain": [
       "<Figure size 600x400 with 1 Axes>"
      ]
     },
     "metadata": {},
     "output_type": "display_data"
    }
   ],
   "source": [
    "# Average total_spent by churn\n",
    "plt.figure(figsize=(6,4))\n",
    "cust.groupby('churn')['total_spent'].mean().plot(kind='bar')\n",
    "plt.title('Average total spent by churn')\n",
    "plt.ylabel('Average total_spent')\n",
    "plt.show()"
   ]
  },
  {
   "cell_type": "code",
   "execution_count": 28,
   "id": "efd73002-15c7-43fa-a461-48f9e56cd44c",
   "metadata": {},
   "outputs": [
    {
     "data": {
      "image/png": "[encoded data removed]",
      "text/plain": [
       "<Figure size 600x400 with 1 Axes>"
      ]
     },
     "metadata": {},
     "output_type": "display_data"
    }
   ],
   "source": [
    "# Days since last purchase distribution\n",
    "plt.figure(figsize=(6,4))\n",
    "cust['days_since_last_purchase'].hist(bins=30)\n",
    "plt.title('Days since last purchase')\n",
    "plt.xlabel('Days')\n",
    "plt.show()"
   ]
  },
  {
   "cell_type": "code",
   "execution_count": 29,
   "id": "4c8bb18a-66f3-4121-8be4-20fe3e7ed566",
   "metadata": {},
   "outputs": [],
   "source": [
    "# 6) Prepare data for modeling\n",
    "# Select features and target\n",
    "features = ['total_spent','avg_order_value','max_order_value','num_orders','orders_per_month','avg_items_per_order','return_rate','num_categories','days_since_last_purchase','age','gender','payment_method']\n",
    "X = cust[features].copy()\n",
    "y = cust['churn'].astype(int)"
   ]
  },
  {
   "cell_type": "code",
   "execution_count": 30,
   "id": "47eb2ba9-a837-4b87-b982-fef0ce7fb813",
   "metadata": {},
   "outputs": [],
   "source": [
    "# Train test split\n",
    "X_train, X_test, y_train, y_test = train_test_split(X, y, test_size=0.2, random_state=42, stratify=y)\n"
   ]
  },
  {
   "cell_type": "code",
   "execution_count": 31,
   "id": "719d6b30-fe4d-40af-a965-b8f8a9a631bd",
   "metadata": {},
   "outputs": [],
   "source": [
    "# %%\n",
    "# 7) Build preprocessing pipeline\n",
    "numeric_features = ['total_spent','avg_order_value','max_order_value','num_orders','orders_per_month','avg_items_per_order','return_rate','num_categories','days_since_last_purchase','age']\n",
    "cat_features = ['gender','payment_method']"
   ]
  },
  {
   "cell_type": "code",
   "execution_count": null,
   "id": "f2ef51cb-31b1-4ede-87b9-d57ba86e0792",
   "metadata": {},
   "outputs": [],
   "source": []
  },
  {
   "cell_type": "code",
   "execution_count": 32,
   "id": "e484770e-d16f-4348-9b03-97577f6b59cf",
   "metadata": {},
   "outputs": [],
   "source": [
    "numeric_transformer = Pipeline(steps=[\n",
    "    ('imputer', SimpleImputer(strategy='median')),\n",
    "    ('scaler', StandardScaler())\n",
    "])"
   ]
  },
  {
   "cell_type": "code",
   "execution_count": 33,
   "id": "83fa9bf5-4002-4274-b017-cd706a38cfe4",
   "metadata": {},
   "outputs": [],
   "source": [
    "\n",
    "cat_transformer = Pipeline(steps=[\n",
    "    ('imputer', SimpleImputer(strategy='most_frequent')),\n",
    "    ('onehot', OneHotEncoder(handle_unknown='ignore'))\n",
    "])"
   ]
  },
  {
   "cell_type": "code",
   "execution_count": 34,
   "id": "6d0cafea-6b19-4984-8a69-d62401b77829",
   "metadata": {},
   "outputs": [],
   "source": [
    "preprocessor = ColumnTransformer(\n",
    "    transformers=[\n",
    "        ('num', numeric_transformer, numeric_features),\n",
    "        ('cat', cat_transformer, cat_features)\n",
    "    ]\n",
    ")"
   ]
  },
  {
   "cell_type": "code",
   "execution_count": 35,
   "id": "0561590b-0aff-46f0-81fc-31b9331965f5",
   "metadata": {},
   "outputs": [],
   "source": [
    "# 8) Train models (Logistic Regression & Random Forest, optional XGBoost)\n",
    "models = {\n",
    "    'logreg': Pipeline(steps=[('preprocessor', preprocessor), ('clf', LogisticRegression(max_iter=1000))]),\n",
    "    'rf': Pipeline(steps=[('preprocessor', preprocessor), ('clf', RandomForestClassifier(n_estimators=200, random_state=42))])\n",
    "}"
   ]
  },
  {
   "cell_type": "code",
   "execution_count": 36,
   "id": "9c2f9d21-122e-41a5-9bf2-ea31684ddac0",
   "metadata": {},
   "outputs": [],
   "source": [
    "\n",
    "if xgb_available:\n",
    "    models['xgb'] = Pipeline(steps=[('preprocessor', preprocessor), ('clf', XGBClassifier(use_label_encoder=False, eval_metric='logloss'))])\n"
   ]
  },
  {
   "cell_type": "code",
   "execution_count": 37,
   "id": "f71e8b67-a56c-49af-9e3f-cf2e3dc7db3a",
   "metadata": {},
   "outputs": [
    {
     "name": "stdout",
     "output_type": "stream",
     "text": [
      "Training logreg...\n",
      "Done logreg\n",
      "Training rf...\n",
      "Done rf\n"
     ]
    }
   ],
   "source": [
    "trained_models = {}\n",
    "for name, model in models.items():\n",
    "    print(f\"Training {name}...\")\n",
    "    model.fit(X_train, y_train)\n",
    "    trained_models[name] = model\n",
    "    print(f\"Done {name}\")"
   ]
  },
  {
   "cell_type": "code",
   "execution_count": 38,
   "id": "5852f38c-0b8f-4e0e-8757-be326c158de5",
   "metadata": {},
   "outputs": [
    {
     "name": "stdout",
     "output_type": "stream",
     "text": [
      "\n",
      "====== MODEL: logreg ======\n",
      "              precision    recall  f1-score   support\n",
      "\n",
      "           0       0.80      1.00      0.89      7947\n",
      "           1       0.00      0.00      0.00      1986\n",
      "\n",
      "    accuracy                           0.80      9933\n",
      "   macro avg       0.40      0.50      0.44      9933\n",
      "weighted avg       0.64      0.80      0.71      9933\n",
      "\n",
      "ROC AUC: 0.4998671967139804\n",
      "Confusion matrix:\n",
      " [[7947    0]\n",
      " [1986    0]]\n",
      "\n",
      "====== MODEL: rf ======\n"
     ]
    },
    {
     "name": "stderr",
     "output_type": "stream",
     "text": [
      "C:\\Users\\visha\\anaconda3\\Lib\\site-packages\\sklearn\\metrics\\_classification.py:1565: UndefinedMetricWarning: Precision is ill-defined and being set to 0.0 in labels with no predicted samples. Use `zero_division` parameter to control this behavior.\n",
      "  _warn_prf(average, modifier, f\"{metric.capitalize()} is\", len(result))\n",
      "C:\\Users\\visha\\anaconda3\\Lib\\site-packages\\sklearn\\metrics\\_classification.py:1565: UndefinedMetricWarning: Precision is ill-defined and being set to 0.0 in labels with no predicted samples. Use `zero_division` parameter to control this behavior.\n",
      "  _warn_prf(average, modifier, f\"{metric.capitalize()} is\", len(result))\n",
      "C:\\Users\\visha\\anaconda3\\Lib\\site-packages\\sklearn\\metrics\\_classification.py:1565: UndefinedMetricWarning: Precision is ill-defined and being set to 0.0 in labels with no predicted samples. Use `zero_division` parameter to control this behavior.\n",
      "  _warn_prf(average, modifier, f\"{metric.capitalize()} is\", len(result))\n"
     ]
    },
    {
     "name": "stdout",
     "output_type": "stream",
     "text": [
      "              precision    recall  f1-score   support\n",
      "\n",
      "           0       0.80      1.00      0.89      7947\n",
      "           1       0.00      0.00      0.00      1986\n",
      "\n",
      "    accuracy                           0.80      9933\n",
      "   macro avg       0.40      0.50      0.44      9933\n",
      "weighted avg       0.64      0.80      0.71      9933\n",
      "\n",
      "ROC AUC: 0.4983442357481356\n",
      "Confusion matrix:\n",
      " [[7945    2]\n",
      " [1986    0]]\n"
     ]
    }
   ],
   "source": [
    "# 9) Evaluate models\n",
    "\n",
    "def eval_model(model, X_test, y_test):\n",
    "    y_pred = model.predict(X_test)\n",
    "    y_proba = model.predict_proba(X_test)[:,1] if hasattr(model, 'predict_proba') else None\n",
    "    print(classification_report(y_test, y_pred))\n",
    "    if y_proba is not None:\n",
    "        print('ROC AUC:', roc_auc_score(y_test, y_proba))\n",
    "    cm = confusion_matrix(y_test, y_pred)\n",
    "    print('Confusion matrix:\\n', cm)\n",
    "\n",
    "for name, model in trained_models.items():\n",
    "    print('\\n====== MODEL:', name, '======')\n",
    "    eval_model(model, X_test, y_test)"
   ]
  },
  {
   "cell_type": "code",
   "execution_count": 40,
   "id": "4095e8bd-7cd9-40ca-8c42-5c5f6a5a5b91",
   "metadata": {},
   "outputs": [
    {
     "name": "stdout",
     "output_type": "stream",
     "text": [
      "\n",
      "Best model: logreg score: 0.4998671967139804\n"
     ]
    }
   ],
   "source": [
    "# %%\n",
    "# 11) Save the best model (choose by ROC AUC on test)\n",
    "best_name, best_score = None, -1\n",
    "for name, model in trained_models.items():\n",
    "    if hasattr(model, 'predict_proba'):\n",
    "        score = roc_auc_score(y_test, model.predict_proba(X_test)[:,1])\n",
    "    else:\n",
    "        score = f1_score(y_test, model.predict(X_test))\n",
    "    if score > best_score:\n",
    "        best_score = score\n",
    "        best_name = name\n",
    "\n",
    "print('\\nBest model:', best_name, 'score:', best_score)\n"
   ]
  },
  {
   "cell_type": "code",
   "execution_count": 41,
   "id": "2820b139-67c7-4813-83b1-3c79be6ddc98",
   "metadata": {},
   "outputs": [
    {
     "name": "stdout",
     "output_type": "stream",
     "text": [
      "Saved best model to best_churn_model.pkl\n"
     ]
    }
   ],
   "source": [
    "import joblib\n",
    "joblib.dump(trained_models[best_name], 'best_churn_model.pkl')\n",
    "print('Saved best model to best_churn_model.pkl')"
   ]
  },
  {
   "cell_type": "code",
   "execution_count": 42,
   "id": "3e75c4e3-6db5-4d68-abc5-c529b761a4f5",
   "metadata": {},
   "outputs": [],
   "source": [
    "# %%\n",
    "# 12) Quick helper: predict churn for a new customer row (example)\n",
    "\n",
    "def predict_single(customer_row_dict):\n",
    "    # customer_row_dict should contain same keys as features list\n",
    "    row = pd.DataFrame([customer_row_dict])\n",
    "    model = joblib.load('best_churn_model.pkl')\n",
    "    pred = model.predict(row)\n",
    "    prob = model.predict_proba(row)[:,1] if hasattr(model, 'predict_proba') else None\n",
    "    return int(pred[0]), float(prob[0]) if prob is not None else None"
   ]
  },
  {
   "cell_type": "code",
   "execution_count": 44,
   "id": "c5c0f72e-92f8-478b-8fa8-391a9fe1e86e",
   "metadata": {},
   "outputs": [],
   "source": [
    "# Example: active customer, likely to stay\n",
    "example_customer = {\n",
    "    'total_spent': 2500,\n",
    "    'avg_order_value': 250,\n",
    "    'max_order_value': 500,\n",
    "    'num_orders': 10,\n",
    "    'orders_per_month': 2,\n",
    "    'avg_items_per_order': 3,\n",
    "    'return_rate': 0.1,\n",
    "    'num_categories': 5,\n",
    "    'days_since_last_purchase': 5,\n",
    "    'age': 32,\n",
    "    'gender': 'Female',\n",
    "    'payment_method': 'Credit Card'\n",
    "}\n",
    "\n",
    "# Example: inactive customer, likely to churn\n",
    "example_churn_risk = {\n",
    "    'total_spent': 200,\n",
    "    'avg_order_value': 50,\n",
    "    'max_order_value': 60,\n",
    "    'num_orders': 4,\n",
    "    'orders_per_month': 0.2,\n",
    "    'avg_items_per_order': 1,\n",
    "    'return_rate': 0.5,\n",
    "    'num_categories': 1,\n",
    "    'days_since_last_purchase': 300,\n",
    "    'age': 45,\n",
    "    'gender': 'Male',\n",
    "    'payment_method': 'PayPal'\n",
    "}\n"
   ]
  },
  {
   "cell_type": "code",
   "execution_count": 45,
   "id": "0d0e8019-5bb1-4c95-8d23-174eb911a6b4",
   "metadata": {},
   "outputs": [
    {
     "name": "stdout",
     "output_type": "stream",
     "text": [
      "Prediction: Retained | Probability: 0.21037510387837846\n",
      "Prediction: Retained | Probability: 0.20201296199113525\n"
     ]
    }
   ],
   "source": [
    "pred, prob = predict_single(example_customer)\n",
    "print(\"Prediction:\", \"Churn\" if pred == 1 else \"Retained\", \"| Probability:\", prob)\n",
    "\n",
    "pred, prob = predict_single(example_churn_risk)\n",
    "print(\"Prediction:\", \"Churn\" if pred == 1 else \"Retained\", \"| Probability:\", prob)\n"
   ]
  },
  {
   "cell_type": "code",
   "execution_count": null,
   "id": "3550aa35-3b35-4606-b746-d7370a43d717",
   "metadata": {},
   "outputs": [],
   "source": []
  }
 ],
 "metadata": {
  "kernelspec": {
   "display_name": "Python [conda env:base] *",
   "language": "python",
   "name": "conda-base-py"
  },
  "language_info": {
   "codemirror_mode": {
    "name": "ipython",
    "version": 3
   },
   "file_extension": ".py",
   "mimetype": "text/x-python",
   "name": "python",
   "nbconvert_exporter": "python",
   "pygments_lexer": "ipython3",
   "version": "3.13.5"
  }
 },
 "nbformat": 4,
 "nbformat_minor": 5
}
